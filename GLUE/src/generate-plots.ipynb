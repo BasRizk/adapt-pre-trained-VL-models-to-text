{
 "cells": [
  {
   "cell_type": "markdown",
   "metadata": {},
   "source": [
    "# Plot results from GLUE evaluation"
   ]
  },
  {
   "cell_type": "markdown",
   "metadata": {},
   "source": [
    "Move to root folder"
   ]
  },
  {
   "cell_type": "code",
   "execution_count": null,
   "metadata": {},
   "outputs": [],
   "source": [
    "%cd ../.."
   ]
  },
  {
   "cell_type": "code",
   "execution_count": null,
   "metadata": {},
   "outputs": [],
   "source": [
    "import numpy as np\n",
    "import pandas as pd\n",
    "import seaborn as sns\n",
    "import matplotlib.pyplot as plt"
   ]
  },
  {
   "cell_type": "markdown",
   "metadata": {},
   "source": [
    "Load results"
   ]
  },
  {
   "cell_type": "code",
   "execution_count": null,
   "metadata": {},
   "outputs": [],
   "source": [
    "GLUE_results = pd.read_csv(\"GLUE/data/results.csv\")"
   ]
  },
  {
   "cell_type": "code",
   "execution_count": null,
   "metadata": {},
   "outputs": [],
   "source": [
    "ADAPTATION_TAGS = [\"avg-visual-features\", \n",
    "                   \"zeroed-visual-features\", \n",
    "                   \"imagined-visual-features\",\n",
    "                   \"zero-image-visual-features\",\n",
    "                   \"zeroed-visual-features\",\n",
    "                   \"finetuned-lxmert-visual-features\",\n",
    "                   \"finetuned-wikipedia-visual-features\",\n",
    "                   \"trained-lxmert-scratch\",\n",
    "                   \"trained-lxmert\",\n",
    "                   \"trained-wikipedia\",\n",
    "                   \"no-visual-features-finetuned-lxmert\",\n",
    "                   \"no-visual-features-finetuned-wikipedia\",\n",
    "                   \"no-visual-features\",\n",
    "                   \"imagined-visual-features\"\n",
    "                  ]\n",
    "MODEL_RENAMES = {\"bert-base-uncased\": \"BERT-base\",\n",
    "                 \"clipbert\": \"CLIP-BERT\",\n",
    "                 \"lxmert\": \"LXMERT\",\n",
    "                 \"visualbert\": \"VisualBERT\"}\n",
    "\n",
    "TAG_RENAMES = {\"trained-lxmert\": \"trained-LXMERT\",\n",
    "             \"trained-lxmert-scratch\": \"trained-LXMERT-scratch\",\n",
    "             \"trained-wikipedia\": \"trained-Wikipedia\",\n",
    "             \"no-visual-features\": \"default\",\n",
    "             \"no-visual-features-finetuned-lxmert\": \"no-visual-features-finetuned-LXMERT\",\n",
    "             \"no-visual-features-finetuned-wikipedia\": \"no-visual-features-finetuned-Wikipedia\",\n",
    "             \"avg-visual-features\": \"avg-visual-features\",\n",
    "             \"zero-image-visual-features\": \"zero-image-visual-features\",\n",
    "             \"finetuned-lxmert-visual-features\": \"finetuned-LXMERT-visual-features\",\n",
    "             \"finetuned-wikipedia-visual-features\": \"finetuned-Wikipedia-visual-features\",\n",
    "             \"imagined-visual-features\": \"imagined-visual-features\",\n",
    "             \"zeroed-visual-features\": \"zeroed-visual-features\"}\n",
    "\n",
    "\n",
    "def get_adaptation_tag(row):\n",
    "    for tag in ADAPTATION_TAGS:\n",
    "        if tag in row.model:\n",
    "            return tag\n",
    "    return \"no-visual-features\"\n",
    "\n",
    "def get_model_name(row):\n",
    "    model_name = row.model\n",
    "    for tag in ADAPTATION_TAGS:\n",
    "        model_name = model_name.replace(\"-\"+tag, \"\")\n",
    "    return model_name\n",
    "\n",
    "\n",
    "HUE_ORDER = [\"trained-LXMERT\",\n",
    "             \"trained-LXMERT-scratch\",\n",
    "             \"trained-Wikipedia\",\n",
    "             \"default\",\n",
    "             \"no-visual-features-finetuned-LXMERT\",\n",
    "             \"no-visual-features-finetuned-Wikipedia\",\n",
    "             \"avg-visual-features\",\n",
    "             \"zero-image-visual-features\",\n",
    "             \"zeroed-visual-features\",\n",
    "             \"finetuned-LXMERT-visual-features\",\n",
    "             \"finetuned-Wikipedia-visual-features\",\n",
    "             \"imagined-visual-features\"\n",
    "            ]\n",
    "\n",
    "tmp_data = GLUE_results.copy()\n",
    "adaptation_tags = tmp_data.apply(get_adaptation_tag, axis=1)\n",
    "model_names = tmp_data.apply(get_model_name, axis=1)\n",
    "\n",
    "tmp_data[\"adaptation\"] = [TAG_RENAMES[tag] for tag in adaptation_tags]\n",
    "tmp_data[\"model\"] = [MODEL_RENAMES[name] for name in model_names]\n",
    "\n",
    "tmp_data = tmp_data.groupby([\"model\", \"adaptation\"]).mean() #take mean over concepts and relations\n",
    "tmp_data = tmp_data.reset_index()\n",
    "\n",
    "plt.figure(figsize=(3,4.7)) #(3,5)\n",
    "# sns.set(rc={'text.usetex' : True})\n",
    "sns.set(rc={'text.usetex' : False})\n",
    "sns.set(font=\"serif\", font_scale=0.8)\n",
    "# plt.rcParams['text.usetex'] = True\n",
    "plt.rcParams['text.usetex'] = False\n",
    "\n",
    "sns.barplot(\n",
    "    data=tmp_data, x='score', y='model', hue=\"adaptation\",\n",
    "    hue_order = HUE_ORDER,\n",
    "    orient=\"h\", palette=\"colorblind\", edgecolor=\".2\", #width=0.9\n",
    ")\n",
    "\n",
    "plt.xlim(0.55, 0.85)\n",
    "plt.legend(bbox_to_anchor=(1.05, 1), loc=2, borderaxespad=0., frameon=False)\n",
    "\n",
    "plt.xlabel(\"Score\")\n",
    "plt.ylabel(\"Model\")\n",
    "\n",
    "#plt.savefig(\"../images/GLUE_results.pgf\", bbox_inches='tight')\n",
    "plt.show()"
   ]
  },
  {
   "cell_type": "code",
   "execution_count": null,
   "metadata": {},
   "outputs": [],
   "source": [
    "print(tmp_data.groupby([\"model\", \"adaptation\"]).mean().reindex(HUE_ORDER, level=\"adaptation\").to_latex())"
   ]
  }
 ],
 "metadata": {
  "kernelspec": {
   "display_name": "Python 3 (ipykernel)",
   "language": "python",
   "name": "python3"
  },
  "language_info": {
   "codemirror_mode": {
    "name": "ipython",
    "version": 3
   },
   "file_extension": ".py",
   "mimetype": "text/x-python",
   "name": "python",
   "nbconvert_exporter": "python",
   "pygments_lexer": "ipython3",
   "version": "3.8.6"
  },
  "vscode": {
   "interpreter": {
    "hash": "05753275db4c417a6068616f81db8df1fa4ccdafd9acd0a9b6ad9f4706cb5748"
   }
  }
 },
 "nbformat": 4,
 "nbformat_minor": 4
}
