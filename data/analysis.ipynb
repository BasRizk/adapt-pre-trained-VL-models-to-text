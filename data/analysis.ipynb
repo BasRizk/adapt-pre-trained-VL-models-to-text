{
 "cells": [
  {
   "cell_type": "markdown",
   "metadata": {},
   "source": [
    "# Analyze datasets for training and finetuning\n",
    "\n",
    "Especially count number of words."
   ]
  },
  {
   "cell_type": "markdown",
   "metadata": {},
   "source": [
    "Make sure that you are standing in the root folder"
   ]
  },
  {
   "cell_type": "code",
   "execution_count": null,
   "metadata": {},
   "outputs": [],
   "source": [
    "%cd .."
   ]
  },
  {
   "cell_type": "code",
   "execution_count": null,
   "metadata": {},
   "outputs": [],
   "source": [
    "import datasets\n",
    "import matplotlib\n",
    "from matplotlib import pyplot as plt\n",
    "import seaborn as sns\n",
    "\n",
    "from numpy import mean"
   ]
  },
  {
   "cell_type": "code",
   "execution_count": null,
   "metadata": {},
   "outputs": [],
   "source": [
    "def get_word_count(example):\n",
    "    example[\"word_count\"] = example[\"text\"].count(' ')+1\n",
    "    return example"
   ]
  },
  {
   "cell_type": "markdown",
   "metadata": {},
   "source": [
    "## Wikipedia (train)"
   ]
  },
  {
   "cell_type": "code",
   "execution_count": null,
   "metadata": {},
   "outputs": [],
   "source": [
    "DATASET_PATH = \"data/wikipedia/train_subset.jsonl\"\n",
    "dataset = datasets.load_dataset('json', data_files=DATASET_PATH, split=\"train\", keep_in_memory=True)\n",
    "dataset = dataset.map(get_word_count, keep_in_memory=True)"
   ]
  },
  {
   "cell_type": "code",
   "execution_count": null,
   "metadata": {},
   "outputs": [],
   "source": [
    "print(f\"Total number of words in dataset: {sum(dataset['word_count'])}\")\n",
    "print(f\"Mean number of words per sample: {mean(dataset['word_count'])}\")\n",
    "print()\n",
    "\n",
    "plt.figure(figsize=(15,5))\n",
    "plt.xscale(\"log\")\n",
    "sns.histplot(dataset[\"word_count\"], bins=30)\n",
    "plt.xlabel(\"# of words/sample\")\n",
    "plt.show()"
   ]
  },
  {
   "cell_type": "markdown",
   "metadata": {},
   "source": [
    "## Wikipedia (validation)"
   ]
  },
  {
   "cell_type": "code",
   "execution_count": null,
   "metadata": {},
   "outputs": [],
   "source": [
    "DATASET_PATH = \"data/wikipedia/test_subset.jsonl\"\n",
    "dataset = datasets.load_dataset('json', data_files=DATASET_PATH, split=\"train\", keep_in_memory=True)\n",
    "dataset = dataset.map(get_word_count, keep_in_memory=True)"
   ]
  },
  {
   "cell_type": "code",
   "execution_count": null,
   "metadata": {},
   "outputs": [],
   "source": [
    "print(f\"Total number of words in dataset: {sum(dataset['word_count'])}\")\n",
    "print(f\"Mean number of words per sample: {mean(dataset['word_count'])}\")\n",
    "print()\n",
    "\n",
    "plt.figure(figsize=(15,5))\n",
    "plt.xscale(\"log\")\n",
    "sns.histplot(dataset[\"word_count\"], bins=30)\n",
    "plt.xlabel(\"# of words/sample\")\n",
    "plt.show()"
   ]
  },
  {
   "cell_type": "markdown",
   "metadata": {},
   "source": [
    "## LXMERT (train)"
   ]
  },
  {
   "cell_type": "code",
   "execution_count": null,
   "metadata": {},
   "outputs": [],
   "source": [
    "DATASET_PATH = \"data/lxmert/train_mlm.jsonl\"\n",
    "dataset = datasets.load_dataset('json', data_files=DATASET_PATH, split=\"train\", keep_in_memory=True)\n",
    "dataset = dataset.map(get_word_count, keep_in_memory=True)"
   ]
  },
  {
   "cell_type": "code",
   "execution_count": null,
   "metadata": {},
   "outputs": [],
   "source": [
    "print(f\"Total number of words in dataset: {sum(dataset['word_count'])}\")\n",
    "print(f\"Mean number of words per sample: {mean(dataset['word_count'])}\")\n",
    "print()\n",
    "\n",
    "plt.figure(figsize=(15,5))\n",
    "plt.xscale(\"log\")\n",
    "sns.histplot(dataset[\"word_count\"], bins=30)\n",
    "plt.xlabel(\"# of words/sample\")\n",
    "plt.show()"
   ]
  },
  {
   "cell_type": "markdown",
   "metadata": {},
   "source": [
    "## LXMERT (validation)"
   ]
  },
  {
   "cell_type": "code",
   "execution_count": null,
   "metadata": {},
   "outputs": [],
   "source": [
    "DATASET_PATH = \"data/lxmert/val_mlm.jsonl\"\n",
    "dataset = datasets.load_dataset('json', data_files=DATASET_PATH, split=\"train\", keep_in_memory=True)\n",
    "dataset = dataset.map(get_word_count, keep_in_memory=True)"
   ]
  },
  {
   "cell_type": "code",
   "execution_count": null,
   "metadata": {},
   "outputs": [],
   "source": [
    "print(f\"Total number of words in dataset: {sum(dataset['word_count'])}\")\n",
    "print(f\"Mean number of words per sample: {mean(dataset['word_count'])}\")\n",
    "print()\n",
    "\n",
    "plt.figure(figsize=(15,5))\n",
    "plt.xscale(\"log\")\n",
    "sns.histplot(dataset[\"word_count\"], bins=30)\n",
    "plt.xlabel(\"# of words/sample\")\n",
    "plt.show()"
   ]
  },
  {
   "cell_type": "markdown",
   "metadata": {},
   "source": [
    "## Fine-tuning datasets"
   ]
  },
  {
   "cell_type": "markdown",
   "metadata": {},
   "source": [
    "### LXMERT (train)"
   ]
  },
  {
   "cell_type": "code",
   "execution_count": null,
   "metadata": {},
   "outputs": [],
   "source": [
    "DATASET_PATH = \"data/lxmert/finetune/train.jsonl\"\n",
    "dataset = datasets.load_dataset('json', data_files=DATASET_PATH, split=\"train\", keep_in_memory=True)\n",
    "dataset = dataset.map(get_word_count, keep_in_memory=True)"
   ]
  },
  {
   "cell_type": "code",
   "execution_count": null,
   "metadata": {},
   "outputs": [],
   "source": [
    "print(f\"Total number of words in dataset: {sum(dataset['word_count'])}\")\n",
    "print(f\"Mean number of words per sample: {mean(dataset['word_count'])}\")\n",
    "print()\n",
    "\n",
    "plt.figure(figsize=(15,5))\n",
    "plt.xscale(\"log\")\n",
    "sns.histplot(dataset[\"word_count\"], bins=20)\n",
    "plt.xlabel(\"# of words/sample\")\n",
    "plt.show()"
   ]
  },
  {
   "cell_type": "markdown",
   "metadata": {},
   "source": [
    "### LXMERT (validation)"
   ]
  },
  {
   "cell_type": "code",
   "execution_count": null,
   "metadata": {},
   "outputs": [],
   "source": [
    "DATASET_PATH = \"data/lxmert/finetune/val.jsonl\"\n",
    "dataset = datasets.load_dataset('json', data_files=DATASET_PATH, split=\"train\", keep_in_memory=True)\n",
    "dataset = dataset.map(get_word_count, keep_in_memory=True)"
   ]
  },
  {
   "cell_type": "code",
   "execution_count": null,
   "metadata": {},
   "outputs": [],
   "source": [
    "print(f\"Total number of words in dataset: {sum(dataset['word_count'])}\")\n",
    "print(f\"Mean number of words per sample: {mean(dataset['word_count'])}\")\n",
    "print()\n",
    "\n",
    "plt.figure(figsize=(15,5))\n",
    "plt.xscale(\"log\")\n",
    "sns.histplot(dataset[\"word_count\"], bins=20)\n",
    "plt.xlabel(\"# of words/sample\")\n",
    "plt.show()"
   ]
  },
  {
   "cell_type": "markdown",
   "metadata": {},
   "source": [
    "### Wikipedia (train)"
   ]
  },
  {
   "cell_type": "code",
   "execution_count": null,
   "metadata": {},
   "outputs": [],
   "source": [
    "DATASET_PATH = \"data/wikipedia/finetune/train.jsonl\"\n",
    "dataset = datasets.load_dataset('json', data_files=DATASET_PATH, split=\"train\", keep_in_memory=True)\n",
    "dataset = dataset.map(get_word_count, keep_in_memory=True)"
   ]
  },
  {
   "cell_type": "code",
   "execution_count": null,
   "metadata": {},
   "outputs": [],
   "source": [
    "print(f\"Total number of words in dataset: {sum(dataset['word_count'])}\")\n",
    "print(f\"Mean number of words per sample: {mean(dataset['word_count'])}\")\n",
    "print()\n",
    "\n",
    "plt.figure(figsize=(15,5))\n",
    "plt.xscale(\"log\")\n",
    "sns.histplot(dataset[\"word_count\"], bins=20)\n",
    "plt.xlabel(\"# of words/sample\")\n",
    "plt.show()"
   ]
  },
  {
   "cell_type": "markdown",
   "metadata": {},
   "source": [
    "### Wikipedia (validation)"
   ]
  },
  {
   "cell_type": "code",
   "execution_count": null,
   "metadata": {},
   "outputs": [],
   "source": [
    "DATASET_PATH = \"data/wikipedia/finetune/val.jsonl\"\n",
    "dataset = datasets.load_dataset('json', data_files=DATASET_PATH, split=\"train\", keep_in_memory=True)\n",
    "dataset = dataset.map(get_word_count, keep_in_memory=True)"
   ]
  },
  {
   "cell_type": "code",
   "execution_count": null,
   "metadata": {},
   "outputs": [],
   "source": [
    "print(f\"Total number of words in dataset: {sum(dataset['word_count'])}\")\n",
    "print(f\"Mean number of words per sample: {mean(dataset['word_count'])}\")\n",
    "print()\n",
    "\n",
    "plt.figure(figsize=(15,5))\n",
    "plt.xscale(\"log\")\n",
    "sns.histplot(dataset[\"word_count\"], bins=20)\n",
    "plt.xlabel(\"# of words/sample\")\n",
    "plt.show()"
   ]
  }
 ],
 "metadata": {
  "kernelspec": {
   "display_name": "Python 3.8.13 ('dl4nlp_assignment_1')",
   "language": "python",
   "name": "python3"
  },
  "language_info": {
   "codemirror_mode": {
    "name": "ipython",
    "version": 3
   },
   "file_extension": ".py",
   "mimetype": "text/x-python",
   "name": "python",
   "nbconvert_exporter": "python",
   "pygments_lexer": "ipython3",
   "version": "3.8.13"
  },
  "vscode": {
   "interpreter": {
    "hash": "05753275db4c417a6068616f81db8df1fa4ccdafd9acd0a9b6ad9f4706cb5748"
   }
  }
 },
 "nbformat": 4,
 "nbformat_minor": 2
}
