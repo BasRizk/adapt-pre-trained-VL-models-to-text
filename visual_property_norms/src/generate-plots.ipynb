{
 "cells": [
  {
   "cell_type": "markdown",
   "metadata": {},
   "source": [
    "# Plot results on Visual Property Norms"
   ]
  },
  {
   "cell_type": "markdown",
   "metadata": {},
   "source": [
    "This notebook contains the code for generating the plots for the Visual Property Norms results presented in the article."
   ]
  },
  {
   "cell_type": "markdown",
   "metadata": {},
   "source": [
    "Move to root folder"
   ]
  },
  {
   "cell_type": "code",
   "execution_count": null,
   "metadata": {},
   "outputs": [],
   "source": [
    "%cd ../.."
   ]
  },
  {
   "cell_type": "code",
   "execution_count": null,
   "metadata": {},
   "outputs": [],
   "source": [
    "import numpy as np\n",
    "import pandas as pd\n",
    "import seaborn as sns\n",
    "import matplotlib.pyplot as plt\n",
    "import ast"
   ]
  },
  {
   "cell_type": "code",
   "execution_count": null,
   "metadata": {},
   "outputs": [],
   "source": [
    "RESULTS_FILE = \"visual_property_norms/data/results/results.csv\"\n",
    "load_results = True\n",
    "if load_results:\n",
    "    results = pd.read_csv(RESULTS_FILE)"
   ]
  },
  {
   "cell_type": "code",
   "execution_count": null,
   "metadata": {},
   "outputs": [],
   "source": [
    "results[\"top10_preds\"] = results.top10_preds.apply(ast.literal_eval)\n",
    "results[\"gold_labels\"] = results.gold_labels.apply(ast.literal_eval)"
   ]
  },
  {
   "cell_type": "code",
   "execution_count": null,
   "metadata": {},
   "outputs": [],
   "source": [
    "results"
   ]
  },
  {
   "cell_type": "code",
   "execution_count": null,
   "metadata": {},
   "outputs": [],
   "source": [
    "results.model.unique()"
   ]
  },
  {
   "cell_type": "markdown",
   "metadata": {},
   "source": [
    "## Main plot"
   ]
  },
  {
   "cell_type": "markdown",
   "metadata": {},
   "source": [
    "Note that we plotted the results for which pf>=10 in the article, so those are the results we plot."
   ]
  },
  {
   "cell_type": "code",
   "execution_count": null,
   "metadata": {},
   "outputs": [],
   "source": [
    "HUE_ORDER = [\"trained-LXMERT\",\n",
    "             \"trained-LXMERT-scratch\",\n",
    "             \"trained-Wikipedia\",\n",
    "             \"default\",\n",
    "             \"no-visual-features-finetuned-LXMERT\",\n",
    "             \"no-visual-features-finetuned-Wikipedia\",\n",
    "             \"avg-visual-features\",\n",
    "             \"zero-image-visual-features\",\n",
    "             \"zeroed-visual-features\",\n",
    "             \"finetuned-LXMERT-visual-features\",\n",
    "             \"finetuned-Wikipedia-visual-features\",\n",
    "             \"imagined-visual-features\"\n",
    "            ]\n",
    "\n",
    "tmp_data = results[results.pf==10].groupby([\"model\", \"adaptation\", \"query_template\"]).agg({\"masked_score\": [\"mean\", \"count\"]}) #take mean over concepts and relations\n",
    "tmp_data = tmp_data.reset_index()\n",
    "tmp_data.columns = ['_'.join(col) if not col[1]==\"\" else col[0] for col in tmp_data.columns]\n",
    "\n",
    "plt.figure(figsize=(3,4.7)) #(3,5)\n",
    "#sns.set(rc={'text.usetex' : True})\n",
    "sns.set(rc={'text.usetex' : False})\n",
    "sns.set(font=\"serif\", font_scale=0.8)\n",
    "#plt.rcParams['text.usetex'] = True\n",
    "plt.rcParams['text.usetex'] = False\n",
    "\n",
    "ax = sns.boxplot(\n",
    "    data=tmp_data, x='masked_score_mean', y='model', hue=\"adaptation\",\n",
    "    hue_order = HUE_ORDER,\n",
    "    orient=\"h\", palette=\"colorblind\", linewidth=0.8, fliersize=2.2, width=0.9\n",
    ")\n",
    "\n",
    "handles, labels = ax.get_legend_handles_labels()\n",
    "l = plt.legend(handles[0:12], labels[0:12], bbox_to_anchor=(1.05, 1), loc=2, borderaxespad=0., frameon=False)\n",
    "plt.xlabel(\"Score\")\n",
    "plt.ylabel(\"Model\")\n",
    "\n",
    "#plt.savefig(\"images/visual_property_norms_results.pgf\", bbox_inches='tight')\n",
    "plt.show()"
   ]
  }
 ],
 "metadata": {
  "kernelspec": {
   "display_name": "Python 3 (ipykernel)",
   "language": "python",
   "name": "python3"
  },
  "language_info": {
   "codemirror_mode": {
    "name": "ipython",
    "version": 3
   },
   "file_extension": ".py",
   "mimetype": "text/x-python",
   "name": "python",
   "nbconvert_exporter": "python",
   "pygments_lexer": "ipython3",
   "version": "3.8.6"
  },
  "vscode": {
   "interpreter": {
    "hash": "05753275db4c417a6068616f81db8df1fa4ccdafd9acd0a9b6ad9f4706cb5748"
   }
  }
 },
 "nbformat": 4,
 "nbformat_minor": 2
}
